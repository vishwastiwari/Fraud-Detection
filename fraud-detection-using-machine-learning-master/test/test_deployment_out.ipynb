{
 "cells": [
  {
   "cell_type": "markdown",
   "metadata": {
    "papermill": {
     "duration": 0.012236,
     "end_time": "2020-11-25T19:35:41.483644",
     "exception": false,
     "start_time": "2020-11-25T19:35:41.471408",
     "status": "completed"
    },
    "tags": []
   },
   "source": [
    "This noteboook launches the solution, with a parameter that instructs the instance to run the solution's notebook using papermill, wait for that process to finish, then raise any errors encountered while running the notebook to the build.\n",
    "\n",
    "The _build instance_ will launch the solution using the following parameters, which can be overriden by providing them as enviroment variables in the build settings. Since the build instance is launching the solution, the build project needs to be provided with all the permissions that are necessary to launch the solution."
   ]
  },
  {
   "cell_type": "code",
   "execution_count": 1,
   "metadata": {
    "execution": {
     "iopub.execute_input": "2020-11-25T19:35:41.502340Z",
     "iopub.status.busy": "2020-11-25T19:35:41.501888Z",
     "iopub.status.idle": "2020-11-25T19:35:41.503443Z",
     "shell.execute_reply": "2020-11-25T19:35:41.503829Z"
    },
    "papermill": {
     "duration": 0.013273,
     "end_time": "2020-11-25T19:35:41.504077",
     "exception": false,
     "start_time": "2020-11-25T19:35:41.490804",
     "status": "completed"
    },
    "tags": [
     "parameters"
    ]
   },
   "outputs": [],
   "source": [
    "BRANCH=\"mainline\"\n",
    "REGION=\"us-west-2\"\n",
    "SOLUTIONS_BUCKET=\"sagemaker-solutions-devo\"\n",
    "SOLUTION_NAME=\"Fraud-detection-using-machine-learning\"\n",
    "STACK_NAME=\"sagemaker-soln-fdml-ci\"\n",
    "STACK_VERSION=\"development\"\n",
    "COMMIT_ID = \"\"\n",
    "CI_BUCKET = \"\"\n",
    "EXECUTION_ID = \"\"\n",
    "NOTEBOOK_POLL_ATTEMPTS=120 # Number of attempts while waiting for SM notebook to execute and produce output on S3\n",
    "NOTEBOOK_POLL_DELAY=60 # Delay between each attempt, in seconds"
   ]
  },
  {
   "cell_type": "code",
   "execution_count": 2,
   "metadata": {
    "execution": {
     "iopub.execute_input": "2020-11-25T19:35:41.519169Z",
     "iopub.status.busy": "2020-11-25T19:35:41.518776Z",
     "iopub.status.idle": "2020-11-25T19:35:41.520639Z",
     "shell.execute_reply": "2020-11-25T19:35:41.520252Z"
    },
    "papermill": {
     "duration": 0.010379,
     "end_time": "2020-11-25T19:35:41.520724",
     "exception": false,
     "start_time": "2020-11-25T19:35:41.510345",
     "status": "completed"
    },
    "tags": [
     "injected-parameters"
    ]
   },
   "outputs": [],
   "source": [
    "# Parameters\n",
    "STACK_NAME = \"sagemaker-soln-fdml-725e04-me-south-1\"\n",
    "BRANCH = \"multi-region-ci\"\n",
    "EXECUTION_ID = \"589f83f6-3aad-487e-81d2-211a6a725e04\"\n",
    "CI_BUCKET = \"sagemaker-soln-fdml-725e04-me-south-1\"\n",
    "REGION = \"me-south-1\"\n",
    "SOLUTIONS_BUCKET = \"thvasilo-dev-test\"\n",
    "STACK_VERSION = \"development\"\n"
   ]
  },
  {
   "cell_type": "markdown",
   "metadata": {
    "papermill": {
     "duration": 0.005728,
     "end_time": "2020-11-25T19:35:41.532448",
     "exception": false,
     "start_time": "2020-11-25T19:35:41.526720",
     "status": "completed"
    },
    "tags": []
   },
   "source": [
    "The next cell programmatically creates the URL for the solution's template, based on the parameters passed above. It's important to include the branch suffix to be able to support feature branches as well as the mainline release pipeline."
   ]
  },
  {
   "cell_type": "code",
   "execution_count": 3,
   "metadata": {
    "execution": {
     "iopub.execute_input": "2020-11-25T19:35:41.546759Z",
     "iopub.status.busy": "2020-11-25T19:35:41.546377Z",
     "iopub.status.idle": "2020-11-25T19:35:41.547881Z",
     "shell.execute_reply": "2020-11-25T19:35:41.548196Z"
    },
    "papermill": {
     "duration": 0.00998,
     "end_time": "2020-11-25T19:35:41.548297",
     "exception": false,
     "start_time": "2020-11-25T19:35:41.538317",
     "status": "completed"
    },
    "tags": []
   },
   "outputs": [],
   "source": [
    "branch_suffix = \"\" if BRANCH == \"mainline\" else f\"-{BRANCH}\"\n",
    "template_url = f\"https://{SOLUTIONS_BUCKET}-{REGION}.s3.{REGION}.amazonaws.com/{SOLUTION_NAME}{branch_suffix}/deployment/fraud-detection-using-machine-learning.yaml\""
   ]
  },
  {
   "cell_type": "markdown",
   "metadata": {
    "papermill": {
     "duration": 0.006514,
     "end_time": "2020-11-25T19:35:41.560519",
     "exception": false,
     "start_time": "2020-11-25T19:35:41.554005",
     "status": "completed"
    },
    "tags": []
   },
   "source": [
    "In the next cell we create a unique prefix for our solution, and create an S3 bucket that will serve as the destination for the notebook files we run on the SM instance. It's important that its name starts with the solution prefix, as that will allow the solution itself to write to it (because the solution should have write access to all `sagemaker-soln-` buckets under the same account)."
   ]
  },
  {
   "cell_type": "code",
   "execution_count": 4,
   "metadata": {
    "execution": {
     "iopub.execute_input": "2020-11-25T19:35:41.575998Z",
     "iopub.status.busy": "2020-11-25T19:35:41.575526Z",
     "iopub.status.idle": "2020-11-25T19:35:41.775674Z",
     "shell.execute_reply": "2020-11-25T19:35:41.775996Z"
    },
    "papermill": {
     "duration": 0.209284,
     "end_time": "2020-11-25T19:35:41.776114",
     "exception": false,
     "start_time": "2020-11-25T19:35:41.566830",
     "status": "completed"
    },
    "tags": []
   },
   "outputs": [
    {
     "name": "stderr",
     "output_type": "stream",
     "text": [
      "INFO:botocore.credentials:Found credentials in shared credentials file: ~/.aws/credentials\n"
     ]
    }
   ],
   "source": [
    "import boto3\n",
    "import uuid\n",
    "import logging\n",
    "import os\n",
    "\n",
    "logging.basicConfig(level=os.environ.get(\"LOGLEVEL\", \"INFO\"))\n",
    "\n",
    "\n",
    "cfn_client = boto3.client('cloudformation', region_name=REGION)\n",
    "s3_client = boto3.client('s3', region_name=REGION)\n",
    "s3 = boto3.resource('s3', region_name=REGION)\n",
    "\n",
    "# Use the commit id to give the solution a unique prefix and name\n",
    "solution_prefix = \"sagemaker-soln-fdml-\" # TODO: Get from template directly\n",
    "unique_prefix = f\"{solution_prefix}{EXECUTION_ID[-6:]}-{REGION}\""
   ]
  },
  {
   "cell_type": "markdown",
   "metadata": {
    "papermill": {
     "duration": 0.00573,
     "end_time": "2020-11-25T19:35:41.788312",
     "exception": false,
     "start_time": "2020-11-25T19:35:41.782582",
     "status": "completed"
    },
    "tags": []
   },
   "source": [
    "The `TestOutputsS3Bucket` CloudFormation parameter given in the next cell, is parsed by CloudFormation and taken in by the project's configuration package (see `source/notebooks/src/package/config.py`). When this parameter is set to something different than `\"\"`, the notebook instance will run the solution's notebook using papermill, through the instance's on-start script (see `deployment/fraud-detection-sagemaker-notebook-instance.yaml`)."
   ]
  },
  {
   "cell_type": "code",
   "execution_count": 5,
   "metadata": {
    "execution": {
     "iopub.execute_input": "2020-11-25T19:35:41.813269Z",
     "iopub.status.busy": "2020-11-25T19:35:41.812473Z",
     "iopub.status.idle": "2020-11-25T19:35:43.474452Z",
     "shell.execute_reply": "2020-11-25T19:35:43.474005Z"
    },
    "papermill": {
     "duration": 1.677137,
     "end_time": "2020-11-25T19:35:43.474599",
     "exception": false,
     "start_time": "2020-11-25T19:35:41.797462",
     "status": "completed"
    },
    "tags": []
   },
   "outputs": [
    {
     "name": "stderr",
     "output_type": "stream",
     "text": [
      "INFO:root:Creating stack using template located at https://thvasilo-dev-test-me-south-1.s3.me-south-1.amazonaws.com/Fraud-detection-using-machine-learning-multi-region-ci/deployment/fraud-detection-using-machine-learning.yaml\n"
     ]
    },
    {
     "name": "stderr",
     "output_type": "stream",
     "text": [
      "INFO:root:STACK_NAME: sagemaker-soln-fdml-725e04-me-south-1\n"
     ]
    },
    {
     "name": "stderr",
     "output_type": "stream",
     "text": [
      "INFO:root:REGION: me-south-1\n"
     ]
    },
    {
     "name": "stderr",
     "output_type": "stream",
     "text": [
      "INFO:root:SOLUTIONS_BUCKET: thvasilo-dev-test\n"
     ]
    },
    {
     "name": "stderr",
     "output_type": "stream",
     "text": [
      "INFO:root:CI_BUCKET: sagemaker-soln-fdml-725e04-me-south-1\n"
     ]
    },
    {
     "name": "stderr",
     "output_type": "stream",
     "text": [
      "INFO:root:StackVersion: development\n"
     ]
    },
    {
     "data": {
      "text/plain": [
       "{'StackId': 'arn:aws:cloudformation:me-south-1:412868550678:stack/sagemaker-soln-fdml-725e04-me-south-1/680ab570-2f55-11eb-8873-0686b2c3ec60',\n",
       " 'ResponseMetadata': {'RequestId': '1bfdc5e1-b6ef-4ec5-8a44-aedceb29aa8b',\n",
       "  'HTTPStatusCode': 200,\n",
       "  'HTTPHeaders': {'x-amzn-requestid': '1bfdc5e1-b6ef-4ec5-8a44-aedceb29aa8b',\n",
       "   'content-type': 'text/xml',\n",
       "   'content-length': '408',\n",
       "   'date': 'Wed, 25 Nov 2020 19:35:42 GMT'},\n",
       "  'RetryAttempts': 0}}"
      ]
     },
     "execution_count": 5,
     "metadata": {},
     "output_type": "execute_result"
    }
   ],
   "source": [
    "logging.info(f\"Creating stack using template located at {template_url}\")\n",
    "logging.info(f\"STACK_NAME: {STACK_NAME}\")\n",
    "logging.info(f\"REGION: {REGION}\")\n",
    "logging.info(f\"SOLUTIONS_BUCKET: {SOLUTIONS_BUCKET}\")\n",
    "logging.info(f\"CI_BUCKET: {CI_BUCKET}\")\n",
    "logging.info(f\"StackVersion: {STACK_VERSION}\")\n",
    "\n",
    "cfn_client.create_stack(\n",
    "    StackName=STACK_NAME,\n",
    "    TemplateURL=template_url,\n",
    "    Parameters=[\n",
    "        {\n",
    "            'ParameterKey': 'SolutionPrefix',\n",
    "            'ParameterValue': unique_prefix\n",
    "        },\n",
    "        {\n",
    "            'ParameterKey': 'StackVersion',\n",
    "            'ParameterValue': STACK_VERSION\n",
    "        },\n",
    "        {\n",
    "            'ParameterKey': 'TestOutputsS3Bucket',\n",
    "            'ParameterValue': CI_BUCKET\n",
    "        },\n",
    "        {\n",
    "            'ParameterKey': 'SolutionName',\n",
    "            'ParameterValue': f\"{SOLUTION_NAME}{branch_suffix}\"\n",
    "        }\n",
    "    ],\n",
    "    Capabilities=[\n",
    "        'CAPABILITY_IAM',\n",
    "        'CAPABILITY_NAMED_IAM'\n",
    "    ]\n",
    ")"
   ]
  },
  {
   "cell_type": "markdown",
   "metadata": {
    "papermill": {
     "duration": 0.007602,
     "end_time": "2020-11-25T19:35:43.491854",
     "exception": false,
     "start_time": "2020-11-25T19:35:43.484252",
     "status": "completed"
    },
    "tags": []
   },
   "source": [
    "We then wait for the stack to finish launching."
   ]
  },
  {
   "cell_type": "code",
   "execution_count": 6,
   "metadata": {
    "execution": {
     "iopub.execute_input": "2020-11-25T19:35:43.510407Z",
     "iopub.status.busy": "2020-11-25T19:35:43.509925Z",
     "iopub.status.idle": "2020-11-25T19:41:26.849062Z",
     "shell.execute_reply": "2020-11-25T19:41:26.849687Z"
    },
    "papermill": {
     "duration": 343.349818,
     "end_time": "2020-11-25T19:41:26.850142",
     "exception": false,
     "start_time": "2020-11-25T19:35:43.500324",
     "status": "completed"
    },
    "tags": []
   },
   "outputs": [
    {
     "name": "stderr",
     "output_type": "stream",
     "text": [
      "INFO:root:Waiting for stack creation to complete...\n"
     ]
    }
   ],
   "source": [
    "logging.info(\"Waiting for stack creation to complete...\")\n",
    "waiter = cfn_client.get_waiter('stack_create_complete')\n",
    "\n",
    "waiter.wait(StackName=STACK_NAME)"
   ]
  },
  {
   "cell_type": "markdown",
   "metadata": {
    "papermill": {
     "duration": 0.007849,
     "end_time": "2020-11-25T19:41:26.870715",
     "exception": false,
     "start_time": "2020-11-25T19:41:26.862866",
     "status": "completed"
    },
    "tags": []
   },
   "source": [
    "Once the stack has finished creating, the OnStart script will attempt to run the `sagemaker_fraud_detection.ipynb` notebook, through the `test/run_notebook.py` script. The notebook is run using papermill, and creates an output in the CI S3 bucket we created previously. The following cell will continuously poll the expected location until the output file appears, or errors out after `NOTEBOOK_POLL_DELAY * NOTEBOOK_POLL_ATTEMPTS` seconds. This also means that the CodeBuild project needs to be able to read files from the particular bucket.\n",
    "\n",
    "Note that if this is longer than the build stage's timeout, the build stage will fail. If your solution's notebooks take very long to run, make sure to [increase the build stage's time out](https://docs.aws.amazon.com/codebuild/latest/userguide/change-project-console.html) as well, can be set using a parameter in the CFT you used to create the pipeline."
   ]
  },
  {
   "cell_type": "code",
   "execution_count": 7,
   "metadata": {
    "execution": {
     "iopub.execute_input": "2020-11-25T19:41:26.892332Z",
     "iopub.status.busy": "2020-11-25T19:41:26.891930Z",
     "iopub.status.idle": "2020-11-25T20:19:13.673993Z",
     "shell.execute_reply": "2020-11-25T20:19:13.674802Z"
    },
    "papermill": {
     "duration": 2266.796426,
     "end_time": "2020-11-25T20:19:13.675623",
     "exception": false,
     "start_time": "2020-11-25T19:41:26.879197",
     "status": "completed"
    },
    "tags": []
   },
   "outputs": [
    {
     "name": "stderr",
     "output_type": "stream",
     "text": [
      "INFO:root:Waiting for output notebook to appear at sagemaker-soln-fdml-725e04-me-south-1/integration-test/output.ipynb...\n"
     ]
    },
    {
     "name": "stderr",
     "output_type": "stream",
     "text": [
      "INFO:root:Will attempt a total 120 every 60 seconds.\n"
     ]
    }
   ],
   "source": [
    "# TODO: Ensure there's a single source for these filenames, either in the config, or passed as a papermill parameter?\n",
    "# Right now they're set here and in run_notebook.py\n",
    "import os\n",
    "prefix = 'integration-test' \n",
    "key = \"output.ipynb\"\n",
    "\n",
    "\n",
    "\n",
    "waiter = s3_client.get_waiter('object_exists')\n",
    "\n",
    "logging.info(f\"Waiting for output notebook to appear at {CI_BUCKET}/{os.path.join(prefix, key)}...\")\n",
    "logging.info(f\"Will attempt a total {NOTEBOOK_POLL_ATTEMPTS} every {NOTEBOOK_POLL_DELAY} seconds.\")\n",
    "waiter.wait(Bucket=CI_BUCKET, Key=os.path.join(prefix, key), WaiterConfig={'Delay': NOTEBOOK_POLL_DELAY,'MaxAttempts': NOTEBOOK_POLL_ATTEMPTS})"
   ]
  },
  {
   "cell_type": "markdown",
   "metadata": {
    "papermill": {
     "duration": 0.009378,
     "end_time": "2020-11-25T20:19:13.700811",
     "exception": false,
     "start_time": "2020-11-25T20:19:13.691433",
     "status": "completed"
    },
    "tags": []
   },
   "source": [
    "Once the notebook appears in the expected location in S3, we download it locally within the build instance, and the stdout and stderr output we got from running the notebook. This doesn't actually run the notebook, but will raise and surface any errors that we triggered during execution on the SM notebook instance. If your solution needs to run more than one notebook you would need to wait for each one to finish in the order you expect them to execute, download them, then dry-run them sequentially here."
   ]
  },
  {
   "cell_type": "code",
   "execution_count": 8,
   "metadata": {
    "execution": {
     "iopub.execute_input": "2020-11-25T20:19:13.728566Z",
     "iopub.status.busy": "2020-11-25T20:19:13.728056Z",
     "iopub.status.idle": "2020-11-25T20:19:17.873433Z",
     "shell.execute_reply": "2020-11-25T20:19:17.872855Z"
    },
    "papermill": {
     "duration": 4.163517,
     "end_time": "2020-11-25T20:19:17.873583",
     "exception": false,
     "start_time": "2020-11-25T20:19:13.710066",
     "status": "completed"
    },
    "tags": []
   },
   "outputs": [
    {
     "name": "stderr",
     "output_type": "stream",
     "text": [
      "INFO:root:Downloading notebook outputs locally...\n"
     ]
    },
    {
     "name": "stderr",
     "output_type": "stream",
     "text": [
      "INFO:root:Performing dry-run of notebooks to surface any errors...\n"
     ]
    },
    {
     "name": "stdout",
     "output_type": "stream",
     "text": [
      "Test deployment and notebook execution completed successfully!\n"
     ]
    }
   ],
   "source": [
    "# Dry-run execute the notebook, raising errors if any existed\n",
    "import papermill as pm\n",
    "\n",
    "logging.info(\"Downloading notebook outputs locally...\")\n",
    "s3.meta.client.download_file(CI_BUCKET, os.path.join(prefix, key), key)\n",
    "try:\n",
    "    s3.meta.client.download_file(CI_BUCKET, os.path.join(prefix, \"output_stdout.txt\"), \"output_stdout.txt\")\n",
    "    s3.meta.client.download_file(CI_BUCKET, os.path.join(prefix, \"output_stderr.txt\"), \"output_stderr.txt\")\n",
    "except:\n",
    "    pass\n",
    "\n",
    "# TODO: this notebook filename should also be a parameter\n",
    "logging.info(\"Performing dry-run of notebooks to surface any errors...\")\n",
    "nb = pm.iorw.load_notebook_node(key)\n",
    "pm.execute.raise_for_execution_errors(nb, key)\n",
    "\n",
    "print(\"Test deployment and notebook execution completed successfully!\")"
   ]
  },
  {
   "cell_type": "markdown",
   "metadata": {
    "papermill": {
     "duration": 0.011738,
     "end_time": "2020-11-25T20:19:17.897345",
     "exception": false,
     "start_time": "2020-11-25T20:19:17.885607",
     "status": "completed"
    },
    "tags": []
   },
   "source": [
    "The build project's artifacts will include all the files you download locally here, so they will end up on S3, where you can go and check out the output to debug any errors in this or the solution's notebook. You can find the build artifacts by browsing to the CI build stage in your pipeline."
   ]
  }
 ],
 "metadata": {
  "celltoolbar": "Tags",
  "kernelspec": {
   "display_name": "Python 3",
   "language": "python",
   "name": "python3"
  },
  "language_info": {
   "codemirror_mode": {
    "name": "ipython",
    "version": 3
   },
   "file_extension": ".py",
   "mimetype": "text/x-python",
   "name": "python",
   "nbconvert_exporter": "python",
   "pygments_lexer": "ipython3",
   "version": "3.7.4"
  },
  "papermill": {
   "duration": 2617.877708,
   "end_time": "2020-11-25T20:19:18.223213",
   "environment_variables": {},
   "exception": null,
   "input_path": "./test/test_deployment.ipynb",
   "output_path": "./test/test_deployment_out.ipynb",
   "parameters": {
    "BRANCH": "multi-region-ci",
    "CI_BUCKET": "sagemaker-soln-fdml-725e04-me-south-1",
    "EXECUTION_ID": "589f83f6-3aad-487e-81d2-211a6a725e04",
    "REGION": "me-south-1",
    "SOLUTIONS_BUCKET": "thvasilo-dev-test",
    "STACK_NAME": "sagemaker-soln-fdml-725e04-me-south-1",
    "STACK_VERSION": "development"
   },
   "start_time": "2020-11-25T19:35:40.345505",
   "version": "2.1.2"
  }
 },
 "nbformat": 4,
 "nbformat_minor": 4
}